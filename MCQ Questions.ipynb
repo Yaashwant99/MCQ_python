{
 "cells": [
  {
   "cell_type": "markdown",
   "id": "06598211",
   "metadata": {},
   "source": [
    "# Q1"
   ]
  },
  {
   "cell_type": "code",
   "execution_count": null,
   "id": "ed582269",
   "metadata": {},
   "outputs": [],
   "source": [
    "(D) - A type of IDE "
   ]
  },
  {
   "cell_type": "code",
   "execution_count": null,
   "id": "bdb71d9c",
   "metadata": {},
   "outputs": [],
   "source": []
  },
  {
   "cell_type": "markdown",
   "id": "32893c2a",
   "metadata": {},
   "source": [
    "# Q2"
   ]
  },
  {
   "cell_type": "code",
   "execution_count": null,
   "id": "c7173d47",
   "metadata": {},
   "outputs": [],
   "source": [
    "(C) - #"
   ]
  },
  {
   "cell_type": "code",
   "execution_count": null,
   "id": "03c8e307",
   "metadata": {},
   "outputs": [],
   "source": []
  },
  {
   "cell_type": "markdown",
   "id": "d7e87974",
   "metadata": {},
   "source": [
    "# Q3"
   ]
  },
  {
   "cell_type": "code",
   "execution_count": null,
   "id": "d5d93a0c",
   "metadata": {},
   "outputs": [],
   "source": [
    "(C) - Char"
   ]
  },
  {
   "cell_type": "code",
   "execution_count": null,
   "id": "3daeac40",
   "metadata": {},
   "outputs": [],
   "source": []
  },
  {
   "cell_type": "markdown",
   "id": "0768bcac",
   "metadata": {},
   "source": [
    "# Q4"
   ]
  },
  {
   "cell_type": "code",
   "execution_count": null,
   "id": "383b3004",
   "metadata": {},
   "outputs": [],
   "source": [
    "(C) - name = value;"
   ]
  },
  {
   "cell_type": "code",
   "execution_count": null,
   "id": "f0baa64e",
   "metadata": {},
   "outputs": [],
   "source": []
  },
  {
   "cell_type": "markdown",
   "id": "e859a660",
   "metadata": {},
   "source": [
    "# Q5"
   ]
  },
  {
   "cell_type": "code",
   "execution_count": 1,
   "id": "d03dde8e",
   "metadata": {},
   "outputs": [
    {
     "data": {
      "text/plain": [
       "7"
      ]
     },
     "execution_count": 1,
     "metadata": {},
     "output_type": "execute_result"
    }
   ],
   "source": [
    "5+2"
   ]
  },
  {
   "cell_type": "code",
   "execution_count": null,
   "id": "f6a7ef57",
   "metadata": {},
   "outputs": [],
   "source": [
    "(C) - 7"
   ]
  },
  {
   "cell_type": "code",
   "execution_count": null,
   "id": "bf05269a",
   "metadata": {},
   "outputs": [],
   "source": []
  },
  {
   "cell_type": "markdown",
   "id": "b8bd3dbb",
   "metadata": {},
   "source": [
    "# Q6"
   ]
  },
  {
   "cell_type": "code",
   "execution_count": null,
   "id": "c05cc959",
   "metadata": {},
   "outputs": [],
   "source": [
    "(C) - list((1,2,3))"
   ]
  },
  {
   "cell_type": "code",
   "execution_count": null,
   "id": "1e1cf0e2",
   "metadata": {},
   "outputs": [],
   "source": []
  },
  {
   "cell_type": "markdown",
   "id": "cfb0fd2b",
   "metadata": {},
   "source": [
    "# Q7"
   ]
  },
  {
   "cell_type": "code",
   "execution_count": null,
   "id": "3057c0e4",
   "metadata": {},
   "outputs": [],
   "source": [
    "(A) - len(list)"
   ]
  },
  {
   "cell_type": "code",
   "execution_count": null,
   "id": "1ac1f6a0",
   "metadata": {},
   "outputs": [],
   "source": []
  },
  {
   "cell_type": "markdown",
   "id": "08f481af",
   "metadata": {},
   "source": [
    "# Q8"
   ]
  },
  {
   "cell_type": "code",
   "execution_count": null,
   "id": "b6b291c1",
   "metadata": {},
   "outputs": [],
   "source": [
    "(A) - if condition:"
   ]
  },
  {
   "cell_type": "code",
   "execution_count": null,
   "id": "eafe2353",
   "metadata": {},
   "outputs": [],
   "source": []
  },
  {
   "cell_type": "markdown",
   "id": "3ec7cdef",
   "metadata": {},
   "source": [
    "# Q9"
   ]
  },
  {
   "cell_type": "code",
   "execution_count": null,
   "id": "9dd4e636",
   "metadata": {},
   "outputs": [],
   "source": [
    "(C) - to handle multiple conditions in an \"if\" statement"
   ]
  },
  {
   "cell_type": "code",
   "execution_count": null,
   "id": "cdb441aa",
   "metadata": {},
   "outputs": [],
   "source": []
  },
  {
   "cell_type": "markdown",
   "id": "5658e5d8",
   "metadata": {},
   "source": [
    "# Q10"
   ]
  },
  {
   "cell_type": "code",
   "execution_count": null,
   "id": "a5e8e41d",
   "metadata": {},
   "outputs": [],
   "source": [
    "(B) - def my_function():"
   ]
  },
  {
   "cell_type": "code",
   "execution_count": null,
   "id": "a68a63e9",
   "metadata": {},
   "outputs": [],
   "source": []
  },
  {
   "cell_type": "markdown",
   "id": "919511ae",
   "metadata": {},
   "source": [
    "# Q11"
   ]
  },
  {
   "cell_type": "code",
   "execution_count": 3,
   "id": "b9aae3bc",
   "metadata": {},
   "outputs": [
    {
     "name": "stdout",
     "output_type": "stream",
     "text": [
      "Hello, world!\n"
     ]
    }
   ],
   "source": [
    "print(\"Hello, \" + \"world!\")"
   ]
  },
  {
   "cell_type": "code",
   "execution_count": null,
   "id": "68b93c67",
   "metadata": {},
   "outputs": [],
   "source": [
    "(A) - Hello, world!"
   ]
  },
  {
   "cell_type": "code",
   "execution_count": null,
   "id": "918bc475",
   "metadata": {},
   "outputs": [],
   "source": []
  },
  {
   "cell_type": "markdown",
   "id": "a9a49ddb",
   "metadata": {},
   "source": [
    "# Q12"
   ]
  },
  {
   "cell_type": "code",
   "execution_count": null,
   "id": "51467f9d",
   "metadata": {},
   "outputs": [],
   "source": [
    "(C) - break"
   ]
  },
  {
   "cell_type": "code",
   "execution_count": null,
   "id": "c8b775ad",
   "metadata": {},
   "outputs": [],
   "source": []
  },
  {
   "cell_type": "markdown",
   "id": "6f52a0e8",
   "metadata": {},
   "source": [
    "# Q13"
   ]
  },
  {
   "cell_type": "code",
   "execution_count": null,
   "id": "b8e8a57d",
   "metadata": {},
   "outputs": [],
   "source": [
    "(B) - The length of the string"
   ]
  },
  {
   "cell_type": "code",
   "execution_count": null,
   "id": "471fe678",
   "metadata": {},
   "outputs": [],
   "source": []
  },
  {
   "cell_type": "markdown",
   "id": "ea2db9b9",
   "metadata": {},
   "source": [
    "# Q14"
   ]
  },
  {
   "cell_type": "code",
   "execution_count": null,
   "id": "20f964e4",
   "metadata": {},
   "outputs": [],
   "source": [
    "(A) - open(\"file.txt\", \"r\")"
   ]
  },
  {
   "cell_type": "code",
   "execution_count": null,
   "id": "09b4c8d9",
   "metadata": {},
   "outputs": [],
   "source": []
  },
  {
   "cell_type": "markdown",
   "id": "6719abac",
   "metadata": {},
   "source": [
    "# Q15"
   ]
  },
  {
   "cell_type": "code",
   "execution_count": null,
   "id": "acf75c6f",
   "metadata": {},
   "outputs": [],
   "source": [
    "(B) - To include external libraries or modules"
   ]
  },
  {
   "cell_type": "code",
   "execution_count": null,
   "id": "d027d842",
   "metadata": {},
   "outputs": [],
   "source": []
  },
  {
   "cell_type": "markdown",
   "id": "a04aaf36",
   "metadata": {},
   "source": [
    "# Q16"
   ]
  },
  {
   "cell_type": "code",
   "execution_count": null,
   "id": "6235a4ec",
   "metadata": {},
   "outputs": [],
   "source": [
    "(B) - dict()"
   ]
  },
  {
   "cell_type": "code",
   "execution_count": null,
   "id": "53d54734",
   "metadata": {},
   "outputs": [],
   "source": []
  },
  {
   "cell_type": "markdown",
   "id": "ba3e7ac7",
   "metadata": {},
   "source": [
    "# Q17"
   ]
  },
  {
   "cell_type": "code",
   "execution_count": null,
   "id": "28b0d617",
   "metadata": {},
   "outputs": [],
   "source": [
    "(A) - List"
   ]
  },
  {
   "cell_type": "code",
   "execution_count": null,
   "id": "8f8a73b8",
   "metadata": {},
   "outputs": [],
   "source": []
  },
  {
   "cell_type": "markdown",
   "id": "b467996d",
   "metadata": {},
   "source": [
    "# Q18"
   ]
  },
  {
   "cell_type": "code",
   "execution_count": null,
   "id": "31f62909",
   "metadata": {},
   "outputs": [],
   "source": [
    "(C) - list.pop(item)"
   ]
  },
  {
   "cell_type": "code",
   "execution_count": null,
   "id": "43ced012",
   "metadata": {},
   "outputs": [],
   "source": []
  },
  {
   "cell_type": "markdown",
   "id": "56912318",
   "metadata": {},
   "source": [
    "# Q19"
   ]
  },
  {
   "cell_type": "code",
   "execution_count": null,
   "id": "b5fec118",
   "metadata": {},
   "outputs": [],
   "source": [
    "(A) - PythonPythonPython"
   ]
  },
  {
   "cell_type": "code",
   "execution_count": null,
   "id": "1dc6852f",
   "metadata": {},
   "outputs": [],
   "source": []
  },
  {
   "cell_type": "markdown",
   "id": "70475f7e",
   "metadata": {},
   "source": [
    "# Q20"
   ]
  },
  {
   "cell_type": "code",
   "execution_count": null,
   "id": "0ace25f8",
   "metadata": {},
   "outputs": [],
   "source": [
    "(A) - (1,)"
   ]
  },
  {
   "cell_type": "code",
   "execution_count": null,
   "id": "6c26becb",
   "metadata": {},
   "outputs": [],
   "source": []
  },
  {
   "cell_type": "markdown",
   "id": "cdaf124a",
   "metadata": {},
   "source": [
    "# Q21"
   ]
  },
  {
   "cell_type": "code",
   "execution_count": null,
   "id": "1888621e",
   "metadata": {},
   "outputs": [],
   "source": [
    "(B) - 555"
   ]
  },
  {
   "cell_type": "code",
   "execution_count": null,
   "id": "439daa28",
   "metadata": {},
   "outputs": [],
   "source": []
  },
  {
   "cell_type": "markdown",
   "id": "e734ee96",
   "metadata": {},
   "source": [
    "# Q22"
   ]
  },
  {
   "cell_type": "code",
   "execution_count": null,
   "id": "b7e9795b",
   "metadata": {},
   "outputs": [],
   "source": [
    "(B) - **"
   ]
  },
  {
   "cell_type": "code",
   "execution_count": null,
   "id": "21b0889b",
   "metadata": {},
   "outputs": [],
   "source": []
  },
  {
   "cell_type": "markdown",
   "id": "405a9017",
   "metadata": {},
   "source": [
    "# Q23"
   ]
  },
  {
   "cell_type": "code",
   "execution_count": null,
   "id": "4901a784",
   "metadata": {},
   "outputs": [],
   "source": [
    "(C) - To execute a block of code if the condition is false"
   ]
  },
  {
   "cell_type": "code",
   "execution_count": null,
   "id": "c407855b",
   "metadata": {},
   "outputs": [],
   "source": []
  },
  {
   "cell_type": "markdown",
   "id": "1c322d90",
   "metadata": {},
   "source": [
    "# Q24"
   ]
  },
  {
   "cell_type": "code",
   "execution_count": null,
   "id": "57ce3eb1",
   "metadata": {},
   "outputs": [],
   "source": [
    "(D) - By using the assignment operator (=) in the parameter list"
   ]
  },
  {
   "cell_type": "code",
   "execution_count": null,
   "id": "fad67062",
   "metadata": {},
   "outputs": [],
   "source": []
  },
  {
   "cell_type": "markdown",
   "id": "80ec24ea",
   "metadata": {},
   "source": [
    "# Q25"
   ]
  },
  {
   "cell_type": "code",
   "execution_count": null,
   "id": "44cb195a",
   "metadata": {},
   "outputs": [],
   "source": [
    "(C) - list"
   ]
  },
  {
   "cell_type": "code",
   "execution_count": null,
   "id": "c302f6e5",
   "metadata": {},
   "outputs": [],
   "source": []
  },
  {
   "cell_type": "markdown",
   "id": "72d1f2dd",
   "metadata": {},
   "source": [
    "# Q26"
   ]
  },
  {
   "cell_type": "code",
   "execution_count": 15,
   "id": "a29745bf",
   "metadata": {},
   "outputs": [],
   "source": [
    " my_list1 = [1,2,3]"
   ]
  },
  {
   "cell_type": "code",
   "execution_count": 16,
   "id": "df2f210c",
   "metadata": {},
   "outputs": [],
   "source": [
    "my_list1[1] = 4"
   ]
  },
  {
   "cell_type": "code",
   "execution_count": 17,
   "id": "dde1bb86",
   "metadata": {},
   "outputs": [
    {
     "name": "stdout",
     "output_type": "stream",
     "text": [
      "[1, 4, 3]\n"
     ]
    }
   ],
   "source": [
    "print(my_list1)"
   ]
  },
  {
   "cell_type": "code",
   "execution_count": null,
   "id": "978ff1d0",
   "metadata": {},
   "outputs": [],
   "source": [
    "(B) - [1,4,3]"
   ]
  },
  {
   "cell_type": "code",
   "execution_count": null,
   "id": "afe5e2f1",
   "metadata": {},
   "outputs": [],
   "source": []
  },
  {
   "cell_type": "markdown",
   "id": "e506dce4",
   "metadata": {},
   "source": [
    "# Q27"
   ]
  },
  {
   "cell_type": "code",
   "execution_count": null,
   "id": "e7d1f441",
   "metadata": {},
   "outputs": [],
   "source": [
    "(B) - read()"
   ]
  },
  {
   "cell_type": "code",
   "execution_count": null,
   "id": "f78b052f",
   "metadata": {},
   "outputs": [],
   "source": []
  },
  {
   "cell_type": "markdown",
   "id": "6cf998ec",
   "metadata": {},
   "source": [
    "# Q28"
   ]
  },
  {
   "cell_type": "code",
   "execution_count": null,
   "id": "303f2040",
   "metadata": {},
   "outputs": [],
   "source": [
    "(D) - To serve as a placeholder for future code"
   ]
  },
  {
   "cell_type": "code",
   "execution_count": null,
   "id": "fd91b1ab",
   "metadata": {},
   "outputs": [],
   "source": []
  },
  {
   "cell_type": "markdown",
   "id": "2de56eaf",
   "metadata": {},
   "source": [
    "# Q29"
   ]
  },
  {
   "cell_type": "code",
   "execution_count": null,
   "id": "e9f76aa2",
   "metadata": {},
   "outputs": [],
   "source": [
    "(A) - using the \"in\" keyword"
   ]
  },
  {
   "cell_type": "code",
   "execution_count": null,
   "id": "2d315b5d",
   "metadata": {},
   "outputs": [],
   "source": []
  },
  {
   "cell_type": "markdown",
   "id": "9a3ae90e",
   "metadata": {},
   "source": [
    "# Q30"
   ]
  },
  {
   "cell_type": "code",
   "execution_count": null,
   "id": "1d02fa1c",
   "metadata": {},
   "outputs": [],
   "source": [
    "(A) - A list of numbers"
   ]
  },
  {
   "cell_type": "code",
   "execution_count": null,
   "id": "6fba2896",
   "metadata": {},
   "outputs": [],
   "source": []
  },
  {
   "cell_type": "markdown",
   "id": "23db6fb2",
   "metadata": {},
   "source": [
    "# Q31"
   ]
  },
  {
   "cell_type": "code",
   "execution_count": null,
   "id": "244589a8",
   "metadata": {},
   "outputs": [],
   "source": [
    "(C) - class"
   ]
  },
  {
   "cell_type": "code",
   "execution_count": null,
   "id": "eeaf1742",
   "metadata": {},
   "outputs": [],
   "source": []
  },
  {
   "cell_type": "markdown",
   "id": "eb0a7367",
   "metadata": {},
   "source": [
    "# Q32"
   ]
  },
  {
   "cell_type": "code",
   "execution_count": null,
   "id": "6057156d",
   "metadata": {},
   "outputs": [],
   "source": [
    "(A) - str1 + str2"
   ]
  },
  {
   "cell_type": "code",
   "execution_count": null,
   "id": "577e6957",
   "metadata": {},
   "outputs": [],
   "source": []
  },
  {
   "cell_type": "markdown",
   "id": "ae9909b3",
   "metadata": {},
   "source": [
    "# Q33"
   ]
  },
  {
   "cell_type": "code",
   "execution_count": null,
   "id": "a5deb3ce",
   "metadata": {},
   "outputs": [],
   "source": [
    "(B) - el"
   ]
  },
  {
   "cell_type": "code",
   "execution_count": null,
   "id": "bd44c505",
   "metadata": {},
   "outputs": [],
   "source": []
  },
  {
   "cell_type": "markdown",
   "id": "31601da3",
   "metadata": {},
   "source": [
    "# Q34"
   ]
  },
  {
   "cell_type": "code",
   "execution_count": null,
   "id": "dca452d6",
   "metadata": {},
   "outputs": [],
   "source": []
  },
  {
   "cell_type": "code",
   "execution_count": null,
   "id": "b536fbb0",
   "metadata": {},
   "outputs": [],
   "source": []
  },
  {
   "cell_type": "markdown",
   "id": "6c486bcd",
   "metadata": {},
   "source": [
    "# Q35"
   ]
  },
  {
   "cell_type": "code",
   "execution_count": null,
   "id": "ee28cc34",
   "metadata": {},
   "outputs": [],
   "source": [
    "(D) - class"
   ]
  },
  {
   "cell_type": "code",
   "execution_count": null,
   "id": "9c3fc89b",
   "metadata": {},
   "outputs": [],
   "source": []
  },
  {
   "cell_type": "markdown",
   "id": "2a4b4b58",
   "metadata": {},
   "source": [
    "# Q36"
   ]
  },
  {
   "cell_type": "code",
   "execution_count": null,
   "id": "1b1fb4c7",
   "metadata": {},
   "outputs": [],
   "source": [
    "(B) - //"
   ]
  },
  {
   "cell_type": "code",
   "execution_count": null,
   "id": "48ad9640",
   "metadata": {},
   "outputs": [],
   "source": []
  },
  {
   "cell_type": "markdown",
   "id": "4e52458f",
   "metadata": {},
   "source": [
    "# Q37"
   ]
  },
  {
   "cell_type": "code",
   "execution_count": 4,
   "id": "78234315",
   "metadata": {},
   "outputs": [
    {
     "data": {
      "text/plain": [
       "3.3333333333333335"
      ]
     },
     "execution_count": 4,
     "metadata": {},
     "output_type": "execute_result"
    }
   ],
   "source": [
    "10/3"
   ]
  },
  {
   "cell_type": "code",
   "execution_count": null,
   "id": "c9fbbe73",
   "metadata": {},
   "outputs": [],
   "source": [
    "(A) - 3.3333333333333335"
   ]
  },
  {
   "cell_type": "code",
   "execution_count": null,
   "id": "ff016bdf",
   "metadata": {},
   "outputs": [],
   "source": []
  },
  {
   "cell_type": "markdown",
   "id": "fe28953a",
   "metadata": {},
   "source": [
    "# Q38"
   ]
  },
  {
   "cell_type": "code",
   "execution_count": null,
   "id": "6bc4208b",
   "metadata": {},
   "outputs": [],
   "source": [
    "(A) - pop()"
   ]
  },
  {
   "cell_type": "code",
   "execution_count": null,
   "id": "8cbe1a28",
   "metadata": {},
   "outputs": [],
   "source": []
  },
  {
   "cell_type": "markdown",
   "id": "21857bea",
   "metadata": {},
   "source": [
    "# Q39"
   ]
  },
  {
   "cell_type": "code",
   "execution_count": null,
   "id": "ef45e0b2",
   "metadata": {},
   "outputs": [],
   "source": [
    "(B) - To handle exceptions and errors"
   ]
  },
  {
   "cell_type": "code",
   "execution_count": null,
   "id": "2130c9e6",
   "metadata": {},
   "outputs": [],
   "source": []
  },
  {
   "cell_type": "markdown",
   "id": "bf47b547",
   "metadata": {},
   "source": [
    "# Q40"
   ]
  },
  {
   "cell_type": "code",
   "execution_count": null,
   "id": "29ac25db",
   "metadata": {},
   "outputs": [],
   "source": [
    "(B) - using the \"is\" keyword"
   ]
  },
  {
   "cell_type": "code",
   "execution_count": null,
   "id": "545f608d",
   "metadata": {},
   "outputs": [],
   "source": []
  },
  {
   "cell_type": "markdown",
   "id": "f1eedef6",
   "metadata": {},
   "source": [
    "# Q41"
   ]
  },
  {
   "cell_type": "code",
   "execution_count": null,
   "id": "2bef91a3",
   "metadata": {},
   "outputs": [],
   "source": [
    "(A) - {1,2,3}"
   ]
  },
  {
   "cell_type": "code",
   "execution_count": null,
   "id": "4f5a85c2",
   "metadata": {},
   "outputs": [],
   "source": []
  },
  {
   "cell_type": "markdown",
   "id": "6f04a673",
   "metadata": {},
   "source": [
    "# Q42"
   ]
  },
  {
   "cell_type": "code",
   "execution_count": null,
   "id": "fee2d46d",
   "metadata": {},
   "outputs": [],
   "source": [
    "(A) - True"
   ]
  },
  {
   "cell_type": "code",
   "execution_count": null,
   "id": "7674cdb2",
   "metadata": {},
   "outputs": [],
   "source": []
  },
  {
   "cell_type": "markdown",
   "id": "785bac6a",
   "metadata": {},
   "source": [
    "# Q43"
   ]
  },
  {
   "cell_type": "code",
   "execution_count": null,
   "id": "cad0de0d",
   "metadata": {},
   "outputs": [],
   "source": [
    "(A) - sort()"
   ]
  },
  {
   "cell_type": "code",
   "execution_count": null,
   "id": "e7b92fa5",
   "metadata": {},
   "outputs": [],
   "source": []
  },
  {
   "cell_type": "markdown",
   "id": "4d2fbc69",
   "metadata": {},
   "source": [
    "# Q44"
   ]
  },
  {
   "cell_type": "code",
   "execution_count": null,
   "id": "306f2a5c",
   "metadata": {},
   "outputs": [],
   "source": [
    "(B) - To skip the rest of the current iteration and continue with the next"
   ]
  },
  {
   "cell_type": "code",
   "execution_count": null,
   "id": "4691ffab",
   "metadata": {},
   "outputs": [],
   "source": []
  },
  {
   "cell_type": "markdown",
   "id": "72dd50bd",
   "metadata": {},
   "source": [
    "# Q45"
   ]
  },
  {
   "cell_type": "code",
   "execution_count": null,
   "id": "ffa310a6",
   "metadata": {},
   "outputs": [],
   "source": [
    "(D) - CONSTANT-NAME = 42"
   ]
  },
  {
   "cell_type": "code",
   "execution_count": null,
   "id": "ff44e459",
   "metadata": {},
   "outputs": [],
   "source": []
  },
  {
   "cell_type": "markdown",
   "id": "01f98b32",
   "metadata": {},
   "source": [
    "# Q46"
   ]
  },
  {
   "cell_type": "code",
   "execution_count": null,
   "id": "6f5ec29a",
   "metadata": {},
   "outputs": [],
   "source": [
    "(A) - [1,2,3,4]"
   ]
  },
  {
   "cell_type": "code",
   "execution_count": null,
   "id": "ca3fe7d0",
   "metadata": {},
   "outputs": [],
   "source": []
  },
  {
   "cell_type": "markdown",
   "id": "bf90797d",
   "metadata": {},
   "source": [
    "# Q47"
   ]
  },
  {
   "cell_type": "code",
   "execution_count": null,
   "id": "a97e5b2a",
   "metadata": {},
   "outputs": [],
   "source": [
    "(D) - triple double quotes (\"\"\"...\"\"\")"
   ]
  },
  {
   "cell_type": "code",
   "execution_count": null,
   "id": "dbe0efc6",
   "metadata": {},
   "outputs": [],
   "source": []
  },
  {
   "cell_type": "markdown",
   "id": "531827a9",
   "metadata": {},
   "source": [
    "# Q48"
   ]
  },
  {
   "cell_type": "code",
   "execution_count": null,
   "id": "640b4452",
   "metadata": {},
   "outputs": [],
   "source": [
    "(A) - removes leading and trailing whitespace"
   ]
  },
  {
   "cell_type": "code",
   "execution_count": null,
   "id": "c09f365f",
   "metadata": {},
   "outputs": [],
   "source": []
  },
  {
   "cell_type": "markdown",
   "id": "ee9c6ba9",
   "metadata": {},
   "source": [
    "# Q49"
   ]
  },
  {
   "cell_type": "code",
   "execution_count": null,
   "id": "665ea5eb",
   "metadata": {},
   "outputs": [],
   "source": [
    "(A) - using the \" not in \" keyword"
   ]
  },
  {
   "cell_type": "code",
   "execution_count": null,
   "id": "a20eb228",
   "metadata": {},
   "outputs": [],
   "source": []
  },
  {
   "cell_type": "markdown",
   "id": "18990a8e",
   "metadata": {},
   "source": [
    "# Q50"
   ]
  },
  {
   "cell_type": "code",
   "execution_count": 5,
   "id": "e9aa5721",
   "metadata": {},
   "outputs": [
    {
     "data": {
      "text/plain": [
       "9"
      ]
     },
     "execution_count": 5,
     "metadata": {},
     "output_type": "execute_result"
    }
   ],
   "source": [
    "3*(1+2)"
   ]
  },
  {
   "cell_type": "code",
   "execution_count": null,
   "id": "f51743f6",
   "metadata": {},
   "outputs": [],
   "source": [
    "(B) - 9"
   ]
  },
  {
   "cell_type": "code",
   "execution_count": null,
   "id": "b90816ef",
   "metadata": {},
   "outputs": [],
   "source": []
  },
  {
   "cell_type": "markdown",
   "id": "210e6052",
   "metadata": {},
   "source": [
    "# Q51"
   ]
  },
  {
   "cell_type": "code",
   "execution_count": null,
   "id": "52040e6f",
   "metadata": {},
   "outputs": [],
   "source": [
    "(D) - (\"file.txt\", \"x\")"
   ]
  },
  {
   "cell_type": "code",
   "execution_count": null,
   "id": "ee33d6bf",
   "metadata": {},
   "outputs": [],
   "source": []
  },
  {
   "cell_type": "markdown",
   "id": "4c794176",
   "metadata": {},
   "source": [
    "# Q52"
   ]
  },
  {
   "cell_type": "code",
   "execution_count": null,
   "id": "54e39d43",
   "metadata": {},
   "outputs": [],
   "source": [
    "(A) - # This is a comment block #"
   ]
  },
  {
   "cell_type": "code",
   "execution_count": null,
   "id": "aa2b2e15",
   "metadata": {},
   "outputs": [],
   "source": []
  },
  {
   "cell_type": "markdown",
   "id": "5dff1c1c",
   "metadata": {},
   "source": [
    "# Q53"
   ]
  },
  {
   "cell_type": "code",
   "execution_count": null,
   "id": "07d5f542",
   "metadata": {},
   "outputs": [],
   "source": [
    "(B) - {\"a\":1, \"c\":3}"
   ]
  },
  {
   "cell_type": "code",
   "execution_count": null,
   "id": "036a4e41",
   "metadata": {},
   "outputs": [],
   "source": []
  },
  {
   "cell_type": "markdown",
   "id": "58ea5dfc",
   "metadata": {},
   "source": [
    "# Q54"
   ]
  },
  {
   "cell_type": "code",
   "execution_count": null,
   "id": "35257383",
   "metadata": {},
   "outputs": [],
   "source": [
    "(A) - new_list = old_list.copy()"
   ]
  },
  {
   "cell_type": "code",
   "execution_count": null,
   "id": "c498b879",
   "metadata": {},
   "outputs": [],
   "source": []
  },
  {
   "cell_type": "markdown",
   "id": "2b02ebc5",
   "metadata": {},
   "source": [
    "# Q55"
   ]
  },
  {
   "cell_type": "code",
   "execution_count": 6,
   "id": "950aab0a",
   "metadata": {},
   "outputs": [
    {
     "data": {
      "text/plain": [
       "1"
      ]
     },
     "execution_count": 6,
     "metadata": {},
     "output_type": "execute_result"
    }
   ],
   "source": [
    "10%3"
   ]
  },
  {
   "cell_type": "code",
   "execution_count": null,
   "id": "ae0630ec",
   "metadata": {},
   "outputs": [],
   "source": [
    "(A) - 1"
   ]
  },
  {
   "cell_type": "code",
   "execution_count": null,
   "id": "6f4fc4a9",
   "metadata": {},
   "outputs": [],
   "source": []
  },
  {
   "cell_type": "markdown",
   "id": "7f959b2a",
   "metadata": {},
   "source": [
    "# Q56"
   ]
  },
  {
   "cell_type": "code",
   "execution_count": null,
   "id": "a757d6ab",
   "metadata": {},
   "outputs": [],
   "source": [
    "(C) - To define an anonymous function"
   ]
  },
  {
   "cell_type": "code",
   "execution_count": null,
   "id": "abd0b752",
   "metadata": {},
   "outputs": [],
   "source": []
  },
  {
   "cell_type": "markdown",
   "id": "545d2a15",
   "metadata": {},
   "source": [
    "# Q57"
   ]
  },
  {
   "cell_type": "code",
   "execution_count": null,
   "id": "9e4720c3",
   "metadata": {},
   "outputs": [],
   "source": [
    "(B) - raise exception (\"Message\")"
   ]
  },
  {
   "cell_type": "code",
   "execution_count": null,
   "id": "31b3021a",
   "metadata": {},
   "outputs": [],
   "source": []
  },
  {
   "cell_type": "markdown",
   "id": "90b4883a",
   "metadata": {},
   "source": [
    "# Q58"
   ]
  },
  {
   "cell_type": "code",
   "execution_count": 7,
   "id": "0e23810a",
   "metadata": {},
   "outputs": [
    {
     "data": {
      "text/plain": [
       "False"
      ]
     },
     "execution_count": 7,
     "metadata": {},
     "output_type": "execute_result"
    }
   ],
   "source": [
    "5==\"5\""
   ]
  },
  {
   "cell_type": "code",
   "execution_count": null,
   "id": "ddd51f1a",
   "metadata": {},
   "outputs": [],
   "source": [
    "(B) - False"
   ]
  },
  {
   "cell_type": "code",
   "execution_count": null,
   "id": "969547b0",
   "metadata": {},
   "outputs": [],
   "source": []
  },
  {
   "cell_type": "markdown",
   "id": "f043dc47",
   "metadata": {},
   "source": [
    "# Q59"
   ]
  },
  {
   "cell_type": "code",
   "execution_count": null,
   "id": "7043beb6",
   "metadata": {},
   "outputs": [],
   "source": [
    "(D) - To read the contents of a file"
   ]
  },
  {
   "cell_type": "code",
   "execution_count": null,
   "id": "5b3860ba",
   "metadata": {},
   "outputs": [],
   "source": []
  },
  {
   "cell_type": "markdown",
   "id": "1ef49c33",
   "metadata": {},
   "source": [
    "# Q60"
   ]
  },
  {
   "cell_type": "code",
   "execution_count": null,
   "id": "52fb7160",
   "metadata": {},
   "outputs": [],
   "source": [
    "(A) - str.lower()"
   ]
  },
  {
   "cell_type": "code",
   "execution_count": null,
   "id": "bbfdb8e1",
   "metadata": {},
   "outputs": [],
   "source": []
  },
  {
   "cell_type": "markdown",
   "id": "6a463b42",
   "metadata": {},
   "source": [
    "# Q61"
   ]
  },
  {
   "cell_type": "code",
   "execution_count": null,
   "id": "d6cdb7b7",
   "metadata": {},
   "outputs": [],
   "source": [
    "(C) - To modify orextend the behaviour of a funnction or method"
   ]
  },
  {
   "cell_type": "code",
   "execution_count": null,
   "id": "72f055a1",
   "metadata": {},
   "outputs": [],
   "source": []
  },
  {
   "cell_type": "markdown",
   "id": "7b545531",
   "metadata": {},
   "source": [
    "# Q62"
   ]
  },
  {
   "cell_type": "code",
   "execution_count": null,
   "id": "4819c368",
   "metadata": {},
   "outputs": [],
   "source": [
    "(B) - It represents the class itself"
   ]
  },
  {
   "cell_type": "code",
   "execution_count": null,
   "id": "4d6271a9",
   "metadata": {},
   "outputs": [],
   "source": []
  },
  {
   "cell_type": "markdown",
   "id": "646aa10c",
   "metadata": {},
   "source": [
    "# Q63"
   ]
  },
  {
   "cell_type": "code",
   "execution_count": null,
   "id": "1ff12f7f",
   "metadata": {},
   "outputs": [],
   "source": []
  },
  {
   "cell_type": "code",
   "execution_count": null,
   "id": "c4ab8bbd",
   "metadata": {},
   "outputs": [],
   "source": []
  },
  {
   "cell_type": "markdown",
   "id": "3b66d09a",
   "metadata": {},
   "source": [
    "# Q64"
   ]
  },
  {
   "cell_type": "code",
   "execution_count": null,
   "id": "598e4ef5",
   "metadata": {},
   "outputs": [],
   "source": [
    "(D) - It returns the superclass of an object"
   ]
  },
  {
   "cell_type": "code",
   "execution_count": null,
   "id": "eb5023d2",
   "metadata": {},
   "outputs": [],
   "source": []
  },
  {
   "cell_type": "markdown",
   "id": "dcd9e329",
   "metadata": {},
   "source": [
    "# Q65"
   ]
  },
  {
   "cell_type": "code",
   "execution_count": null,
   "id": "c1bcf5a7",
   "metadata": {},
   "outputs": [],
   "source": []
  },
  {
   "cell_type": "code",
   "execution_count": null,
   "id": "1df54222",
   "metadata": {},
   "outputs": [],
   "source": []
  },
  {
   "cell_type": "markdown",
   "id": "c6ce734c",
   "metadata": {},
   "source": [
    "# Q66"
   ]
  },
  {
   "cell_type": "code",
   "execution_count": null,
   "id": "f4fa931a",
   "metadata": {},
   "outputs": [],
   "source": [
    "(D) - To serve as a placeholder for future code"
   ]
  },
  {
   "cell_type": "code",
   "execution_count": null,
   "id": "5df0750c",
   "metadata": {},
   "outputs": [],
   "source": []
  },
  {
   "cell_type": "markdown",
   "id": "f1804234",
   "metadata": {},
   "source": [
    "# Q67"
   ]
  },
  {
   "cell_type": "code",
   "execution_count": null,
   "id": "1fc19e9b",
   "metadata": {},
   "outputs": [],
   "source": [
    "(A) - It allows for easy multithreading without synchroniation issues"
   ]
  },
  {
   "cell_type": "code",
   "execution_count": null,
   "id": "310d5bc3",
   "metadata": {},
   "outputs": [],
   "source": []
  },
  {
   "cell_type": "markdown",
   "id": "d45591aa",
   "metadata": {},
   "source": [
    "# Q68"
   ]
  },
  {
   "cell_type": "code",
   "execution_count": null,
   "id": "ac494815",
   "metadata": {},
   "outputs": [],
   "source": [
    "(D) - To iterate over both the index and value of an iterable"
   ]
  },
  {
   "cell_type": "code",
   "execution_count": null,
   "id": "a93a75b8",
   "metadata": {},
   "outputs": [],
   "source": []
  },
  {
   "cell_type": "markdown",
   "id": "200cb9c6",
   "metadata": {},
   "source": [
    "# Q69"
   ]
  },
  {
   "cell_type": "code",
   "execution_count": null,
   "id": "e523b9d0",
   "metadata": {},
   "outputs": [],
   "source": [
    "(D) - open (\"file.txt\", \"rb\")"
   ]
  },
  {
   "cell_type": "code",
   "execution_count": null,
   "id": "4c2ab278",
   "metadata": {},
   "outputs": [],
   "source": []
  },
  {
   "cell_type": "markdown",
   "id": "297524ae",
   "metadata": {},
   "source": [
    "# Q70"
   ]
  },
  {
   "cell_type": "code",
   "execution_count": null,
   "id": "dc49b6b6",
   "metadata": {},
   "outputs": [],
   "source": [
    "(B) - It defines a generator expression"
   ]
  },
  {
   "cell_type": "code",
   "execution_count": null,
   "id": "5fae7b1c",
   "metadata": {},
   "outputs": [],
   "source": []
  },
  {
   "cell_type": "markdown",
   "id": "75605290",
   "metadata": {},
   "source": [
    "# Q71"
   ]
  },
  {
   "cell_type": "code",
   "execution_count": null,
   "id": "20bddc56",
   "metadata": {},
   "outputs": [],
   "source": [
    "(A) - Variable names starting with a single underscore (e.g., \"_var\")"
   ]
  },
  {
   "cell_type": "code",
   "execution_count": null,
   "id": "bc079247",
   "metadata": {},
   "outputs": [],
   "source": []
  },
  {
   "cell_type": "markdown",
   "id": "93beaff9",
   "metadata": {},
   "source": [
    "# Q72"
   ]
  },
  {
   "cell_type": "code",
   "execution_count": null,
   "id": "a4c3cd5e",
   "metadata": {},
   "outputs": [],
   "source": [
    "(B) - To apply a function to each element of an iterable and return the results"
   ]
  },
  {
   "cell_type": "code",
   "execution_count": null,
   "id": "17800084",
   "metadata": {},
   "outputs": [],
   "source": []
  },
  {
   "cell_type": "markdown",
   "id": "aa4be2e9",
   "metadata": {},
   "source": [
    "# Q73"
   ]
  },
  {
   "cell_type": "code",
   "execution_count": null,
   "id": "e9fbeb48",
   "metadata": {},
   "outputs": [],
   "source": [
    "(C) - It marks a method as a static method that does not depend on the instance or class"
   ]
  },
  {
   "cell_type": "code",
   "execution_count": null,
   "id": "0a5e2ca3",
   "metadata": {},
   "outputs": [],
   "source": []
  },
  {
   "cell_type": "markdown",
   "id": "aa6c55d5",
   "metadata": {},
   "source": [
    "# Q74"
   ]
  },
  {
   "cell_type": "code",
   "execution_count": null,
   "id": "390584b2",
   "metadata": {},
   "outputs": [],
   "source": [
    "(B) - To execute code regardless of whether an exception is raised or not"
   ]
  },
  {
   "cell_type": "code",
   "execution_count": null,
   "id": "af22f8b9",
   "metadata": {},
   "outputs": [],
   "source": []
  },
  {
   "cell_type": "markdown",
   "id": "b90bacf0",
   "metadata": {},
   "source": [
    "# Q75"
   ]
  },
  {
   "cell_type": "code",
   "execution_count": null,
   "id": "d8cd1c48",
   "metadata": {},
   "outputs": [],
   "source": []
  },
  {
   "cell_type": "code",
   "execution_count": null,
   "id": "f2a83fa8",
   "metadata": {},
   "outputs": [],
   "source": []
  },
  {
   "cell_type": "markdown",
   "id": "b8fd4f35",
   "metadata": {},
   "source": [
    "# Q76"
   ]
  },
  {
   "cell_type": "code",
   "execution_count": null,
   "id": "aa140c7d",
   "metadata": {},
   "outputs": [],
   "source": [
    "(D) - len()"
   ]
  },
  {
   "cell_type": "code",
   "execution_count": null,
   "id": "10e9ee9e",
   "metadata": {},
   "outputs": [],
   "source": []
  },
  {
   "cell_type": "markdown",
   "id": "22e59f46",
   "metadata": {},
   "source": [
    "# Q77"
   ]
  },
  {
   "cell_type": "code",
   "execution_count": null,
   "id": "dc5ebee9",
   "metadata": {},
   "outputs": [],
   "source": [
    "(B) - [1,2,3,4,5]"
   ]
  },
  {
   "cell_type": "code",
   "execution_count": null,
   "id": "c171ede8",
   "metadata": {},
   "outputs": [],
   "source": []
  },
  {
   "cell_type": "markdown",
   "id": "c04df973",
   "metadata": {},
   "source": [
    "# Q78"
   ]
  },
  {
   "cell_type": "code",
   "execution_count": null,
   "id": "09c597cc",
   "metadata": {},
   "outputs": [],
   "source": [
    "(B) - To combine two or more iterables into tuples of corresponding elements"
   ]
  },
  {
   "cell_type": "code",
   "execution_count": null,
   "id": "8a315a67",
   "metadata": {},
   "outputs": [],
   "source": []
  },
  {
   "cell_type": "markdown",
   "id": "1d476c72",
   "metadata": {},
   "source": [
    "# Q79"
   ]
  },
  {
   "cell_type": "code",
   "execution_count": null,
   "id": "8f6d9ddc",
   "metadata": {},
   "outputs": [],
   "source": [
    "(A) - Converts a value to a boolean (True or False)"
   ]
  },
  {
   "cell_type": "code",
   "execution_count": null,
   "id": "d55d6479",
   "metadata": {},
   "outputs": [],
   "source": []
  },
  {
   "cell_type": "markdown",
   "id": "22445283",
   "metadata": {},
   "source": [
    "# Q80"
   ]
  },
  {
   "cell_type": "code",
   "execution_count": null,
   "id": "f8f90165",
   "metadata": {},
   "outputs": [],
   "source": [
    "(A) - To generate random numbers"
   ]
  },
  {
   "cell_type": "code",
   "execution_count": null,
   "id": "23a0f60c",
   "metadata": {},
   "outputs": [],
   "source": []
  },
  {
   "cell_type": "markdown",
   "id": "9d0b4292",
   "metadata": {},
   "source": [
    "# Q81"
   ]
  },
  {
   "cell_type": "code",
   "execution_count": 8,
   "id": "e55d580f",
   "metadata": {},
   "outputs": [
    {
     "data": {
      "text/plain": [
       "9"
      ]
     },
     "execution_count": 8,
     "metadata": {},
     "output_type": "execute_result"
    }
   ],
   "source": [
    "3**2"
   ]
  },
  {
   "cell_type": "code",
   "execution_count": null,
   "id": "1c516e1d",
   "metadata": {},
   "outputs": [],
   "source": [
    "(C) - 9"
   ]
  },
  {
   "cell_type": "code",
   "execution_count": null,
   "id": "c5445979",
   "metadata": {},
   "outputs": [],
   "source": []
  },
  {
   "cell_type": "markdown",
   "id": "24ec5c79",
   "metadata": {},
   "source": [
    "# Q82"
   ]
  },
  {
   "cell_type": "code",
   "execution_count": null,
   "id": "d16d40fd",
   "metadata": {},
   "outputs": [],
   "source": [
    "(C) - \"\"\"This is a comment\"\"\""
   ]
  },
  {
   "cell_type": "code",
   "execution_count": null,
   "id": "8c7db1d4",
   "metadata": {},
   "outputs": [],
   "source": []
  },
  {
   "cell_type": "markdown",
   "id": "aa776404",
   "metadata": {},
   "source": [
    "# Q83"
   ]
  },
  {
   "cell_type": "code",
   "execution_count": null,
   "id": "ee1e72d9",
   "metadata": {},
   "outputs": [],
   "source": [
    "(B) - To exit the loop prematurely"
   ]
  },
  {
   "cell_type": "code",
   "execution_count": null,
   "id": "4a2cdb91",
   "metadata": {},
   "outputs": [],
   "source": []
  },
  {
   "cell_type": "markdown",
   "id": "06d5308c",
   "metadata": {},
   "source": [
    "# Q84"
   ]
  },
  {
   "cell_type": "code",
   "execution_count": null,
   "id": "325de0a2",
   "metadata": {},
   "outputs": [],
   "source": [
    "(A) - Using the \"tuple()\" function"
   ]
  },
  {
   "cell_type": "code",
   "execution_count": null,
   "id": "6f74a374",
   "metadata": {},
   "outputs": [],
   "source": []
  },
  {
   "cell_type": "markdown",
   "id": "d45ed333",
   "metadata": {},
   "source": [
    "# Q85"
   ]
  },
  {
   "cell_type": "code",
   "execution_count": 10,
   "id": "dc47cc10",
   "metadata": {},
   "outputs": [
    {
     "name": "stdout",
     "output_type": "stream",
     "text": [
      "5\n"
     ]
    }
   ],
   "source": [
    "x = 5\n",
    "y = x\n",
    "y = 3\n",
    "print(x)"
   ]
  },
  {
   "cell_type": "code",
   "execution_count": null,
   "id": "db575a87",
   "metadata": {},
   "outputs": [],
   "source": [
    "(B) - 5"
   ]
  },
  {
   "cell_type": "code",
   "execution_count": null,
   "id": "2b4a08da",
   "metadata": {},
   "outputs": [],
   "source": []
  },
  {
   "cell_type": "markdown",
   "id": "6ec6b905",
   "metadata": {},
   "source": [
    "# Q86"
   ]
  },
  {
   "cell_type": "code",
   "execution_count": null,
   "id": "705a4e4c",
   "metadata": {},
   "outputs": [],
   "source": [
    "(A) - {1:'one', 2:'two', 3:'three'}"
   ]
  },
  {
   "cell_type": "code",
   "execution_count": null,
   "id": "b51002e8",
   "metadata": {},
   "outputs": [],
   "source": []
  },
  {
   "cell_type": "markdown",
   "id": "fcfea7bb",
   "metadata": {},
   "source": [
    "# Q87"
   ]
  },
  {
   "cell_type": "code",
   "execution_count": null,
   "id": "b6e50b09",
   "metadata": {},
   "outputs": [],
   "source": [
    "(B) - To skip the rest of the current iteration and continue with the next"
   ]
  },
  {
   "cell_type": "code",
   "execution_count": null,
   "id": "fe143a7a",
   "metadata": {},
   "outputs": [],
   "source": []
  },
  {
   "cell_type": "markdown",
   "id": "f9614c39",
   "metadata": {},
   "source": [
    "# Q88"
   ]
  },
  {
   "cell_type": "code",
   "execution_count": null,
   "id": "a7f8c5ea",
   "metadata": {},
   "outputs": [],
   "source": [
    "(C) - var_name := 10"
   ]
  },
  {
   "cell_type": "code",
   "execution_count": null,
   "id": "622eb716",
   "metadata": {},
   "outputs": [],
   "source": []
  },
  {
   "cell_type": "markdown",
   "id": "6fd17e1f",
   "metadata": {},
   "source": [
    "# Q89"
   ]
  },
  {
   "cell_type": "code",
   "execution_count": 11,
   "id": "91db502a",
   "metadata": {},
   "outputs": [
    {
     "name": "stdout",
     "output_type": "stream",
     "text": [
      "[3, 4]\n"
     ]
    }
   ],
   "source": [
    "my_list = [1,2,3,4,5]\n",
    "print(my_list[2:4])"
   ]
  },
  {
   "cell_type": "code",
   "execution_count": null,
   "id": "9137beb4",
   "metadata": {},
   "outputs": [],
   "source": [
    "(C) - [3,4]"
   ]
  },
  {
   "cell_type": "code",
   "execution_count": null,
   "id": "e0d5f589",
   "metadata": {},
   "outputs": [],
   "source": []
  },
  {
   "cell_type": "markdown",
   "id": "6c5cfc2e",
   "metadata": {},
   "source": [
    "# Q90"
   ]
  },
  {
   "cell_type": "code",
   "execution_count": null,
   "id": "b5ea9f15",
   "metadata": {},
   "outputs": [],
   "source": [
    "(C) - Adds an element to the end of the list"
   ]
  },
  {
   "cell_type": "code",
   "execution_count": null,
   "id": "f4586a74",
   "metadata": {},
   "outputs": [],
   "source": []
  },
  {
   "cell_type": "markdown",
   "id": "9847e432",
   "metadata": {},
   "source": [
    "# Q91"
   ]
  },
  {
   "cell_type": "code",
   "execution_count": null,
   "id": "7b137975",
   "metadata": {},
   "outputs": [],
   "source": [
    "(B) - type(variable)"
   ]
  },
  {
   "cell_type": "code",
   "execution_count": null,
   "id": "5b8600d6",
   "metadata": {},
   "outputs": [],
   "source": []
  },
  {
   "cell_type": "markdown",
   "id": "396ae973",
   "metadata": {},
   "source": [
    "# Q92"
   ]
  },
  {
   "cell_type": "code",
   "execution_count": null,
   "id": "dd9a2b89",
   "metadata": {},
   "outputs": [],
   "source": [
    "(C) - To execute code regardless of whether an exception occured or not"
   ]
  },
  {
   "cell_type": "code",
   "execution_count": null,
   "id": "38537c29",
   "metadata": {},
   "outputs": [],
   "source": []
  },
  {
   "cell_type": "markdown",
   "id": "c377b045",
   "metadata": {},
   "source": [
    "# Q93"
   ]
  },
  {
   "cell_type": "code",
   "execution_count": null,
   "id": "72ac5b68",
   "metadata": {},
   "outputs": [],
   "source": [
    "(B) - Joins a list of strings into a single string using a specified demimiter"
   ]
  },
  {
   "cell_type": "code",
   "execution_count": null,
   "id": "31828aef",
   "metadata": {},
   "outputs": [],
   "source": []
  },
  {
   "cell_type": "markdown",
   "id": "cf709fae",
   "metadata": {},
   "source": [
    "# Q94"
   ]
  },
  {
   "cell_type": "code",
   "execution_count": null,
   "id": "685cb9f8",
   "metadata": {},
   "outputs": [],
   "source": [
    "(A) - x is greater than 5"
   ]
  },
  {
   "cell_type": "code",
   "execution_count": null,
   "id": "39da3a0b",
   "metadata": {},
   "outputs": [],
   "source": []
  },
  {
   "cell_type": "markdown",
   "id": "37ec7a7a",
   "metadata": {},
   "source": [
    "# Q95"
   ]
  },
  {
   "cell_type": "code",
   "execution_count": null,
   "id": "b5ed9eb8",
   "metadata": {},
   "outputs": [],
   "source": [
    "(B) - pop()"
   ]
  },
  {
   "cell_type": "code",
   "execution_count": null,
   "id": "36ab23d5",
   "metadata": {},
   "outputs": [],
   "source": []
  },
  {
   "cell_type": "markdown",
   "id": "3ca36854",
   "metadata": {},
   "source": [
    "# Q96"
   ]
  },
  {
   "cell_type": "code",
   "execution_count": null,
   "id": "6737e1ff",
   "metadata": {},
   "outputs": [],
   "source": [
    "(A) - Removes leading and trailing whitespace characters"
   ]
  },
  {
   "cell_type": "code",
   "execution_count": null,
   "id": "8a8723bf",
   "metadata": {},
   "outputs": [],
   "source": []
  },
  {
   "cell_type": "markdown",
   "id": "12adec01",
   "metadata": {},
   "source": [
    "# Q97"
   ]
  },
  {
   "cell_type": "code",
   "execution_count": null,
   "id": "200b5741",
   "metadata": {},
   "outputs": [],
   "source": [
    "(D) - open(\"file.txt\", \"r+\")"
   ]
  },
  {
   "cell_type": "code",
   "execution_count": null,
   "id": "3fae63c7",
   "metadata": {},
   "outputs": [],
   "source": []
  },
  {
   "cell_type": "markdown",
   "id": "2ef9a1cd",
   "metadata": {},
   "source": [
    "# Q98"
   ]
  },
  {
   "cell_type": "code",
   "execution_count": null,
   "id": "a00cc668",
   "metadata": {},
   "outputs": [],
   "source": [
    "(A) - To convert a value to a string"
   ]
  },
  {
   "cell_type": "code",
   "execution_count": null,
   "id": "e7e19fcf",
   "metadata": {},
   "outputs": [],
   "source": []
  },
  {
   "cell_type": "markdown",
   "id": "59dba168",
   "metadata": {},
   "source": [
    "# Q99"
   ]
  },
  {
   "cell_type": "code",
   "execution_count": null,
   "id": "e766bb81",
   "metadata": {},
   "outputs": [],
   "source": [
    "(C) - var_1 = 10"
   ]
  },
  {
   "cell_type": "code",
   "execution_count": null,
   "id": "3875e9e9",
   "metadata": {},
   "outputs": [],
   "source": []
  },
  {
   "cell_type": "markdown",
   "id": "54512a42",
   "metadata": {},
   "source": [
    "# Q100"
   ]
  },
  {
   "cell_type": "code",
   "execution_count": 12,
   "id": "8cf4eee4",
   "metadata": {},
   "outputs": [
    {
     "name": "stdout",
     "output_type": "stream",
     "text": [
      "!\n"
     ]
    }
   ],
   "source": [
    "my_string = 'Python is fun!'\n",
    "print(my_string[-1])"
   ]
  },
  {
   "cell_type": "code",
   "execution_count": null,
   "id": "66cb541a",
   "metadata": {},
   "outputs": [],
   "source": [
    "(B) - !"
   ]
  },
  {
   "cell_type": "code",
   "execution_count": null,
   "id": "e6cff2c7",
   "metadata": {},
   "outputs": [],
   "source": []
  },
  {
   "cell_type": "code",
   "execution_count": null,
   "id": "6c14326a",
   "metadata": {},
   "outputs": [],
   "source": []
  },
  {
   "cell_type": "code",
   "execution_count": null,
   "id": "6051b109",
   "metadata": {},
   "outputs": [],
   "source": []
  },
  {
   "cell_type": "code",
   "execution_count": null,
   "id": "ee9f2846",
   "metadata": {},
   "outputs": [],
   "source": []
  },
  {
   "cell_type": "code",
   "execution_count": null,
   "id": "2a32417d",
   "metadata": {},
   "outputs": [],
   "source": []
  },
  {
   "cell_type": "code",
   "execution_count": null,
   "id": "98f6705b",
   "metadata": {},
   "outputs": [],
   "source": []
  },
  {
   "cell_type": "code",
   "execution_count": null,
   "id": "86cdf7bf",
   "metadata": {},
   "outputs": [],
   "source": []
  },
  {
   "cell_type": "code",
   "execution_count": null,
   "id": "6df1a2b5",
   "metadata": {},
   "outputs": [],
   "source": []
  },
  {
   "cell_type": "code",
   "execution_count": null,
   "id": "8a62f638",
   "metadata": {},
   "outputs": [],
   "source": []
  }
 ],
 "metadata": {
  "kernelspec": {
   "display_name": "Python 3 (ipykernel)",
   "language": "python",
   "name": "python3"
  },
  "language_info": {
   "codemirror_mode": {
    "name": "ipython",
    "version": 3
   },
   "file_extension": ".py",
   "mimetype": "text/x-python",
   "name": "python",
   "nbconvert_exporter": "python",
   "pygments_lexer": "ipython3",
   "version": "3.11.3"
  }
 },
 "nbformat": 4,
 "nbformat_minor": 5
}
